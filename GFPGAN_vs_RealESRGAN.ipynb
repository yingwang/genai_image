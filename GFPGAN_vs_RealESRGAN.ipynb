{
  "cells": [
    {
      "cell_type": "markdown",
      "metadata": {
        "id": "view-in-github",
        "colab_type": "text"
      },
      "source": [
        "<a href=\"https://colab.research.google.com/github/yingwang/genai_image/blob/main/GFPGAN_vs_RealESRGAN.ipynb\" target=\"_parent\"><img src=\"https://colab.research.google.com/assets/colab-badge.svg\" alt=\"Open In Colab\"/></a>"
      ]
    },
    {
      "cell_type": "code",
      "execution_count": null,
      "metadata": {
        "id": "hffMbEz1OFGb"
      },
      "outputs": [],
      "source": [
        "# Install dependencies\n",
        "!pip install basicsr facexlib gfpgan\n",
        "!git clone https://github.com/xinntao/Real-ESRGAN.git\n",
        "%cd Real-ESRGAN\n",
        "!pip install -r requirements.txt\n",
        "!python setup.py develop\n",
        "%cd .."
      ]
    },
    {
      "cell_type": "code",
      "source": [
        "# !rm -rf Real-ESRGAN\n",
        "\n",
        "# !git clone https://github.com/xinntao/Real-ESRGAN.git\n",
        "# %cd Real-ESRGAN\n",
        "\n",
        "# !pip install -r requirements.txt\n",
        "# !pip install -e .\n",
        "\n",
        "# import sys\n",
        "# sys.path.insert(0, \"/content/Real-ESRGAN\")\n",
        "\n",
        "# try:\n",
        "#     from realesrgan import RealESRGANer\n",
        "#     print(\"Loaded RealESRGANer!\")\n",
        "# except ImportError as e:\n",
        "#     print(\"Fail to load:\", e)"
      ],
      "metadata": {
        "id": "rnQFHVhjEkyR"
      },
      "execution_count": null,
      "outputs": []
    },
    {
      "cell_type": "code",
      "execution_count": null,
      "metadata": {
        "id": "HQsTZtdJN6qr"
      },
      "outputs": [],
      "source": [
        "!python -m pip install torch==2.0.1 torchvision==0.15.2 --extra-index-url https://download.pytorch.org/whl/cu118"
      ]
    },
    {
      "cell_type": "code",
      "execution_count": null,
      "metadata": {
        "id": "p4nylwSgMmuW"
      },
      "outputs": [],
      "source": [
        "import os\n",
        "import cv2\n",
        "import numpy as np\n",
        "from google.colab.patches import cv2_imshow\n",
        "from gfpgan import GFPGANer\n",
        "from basicsr.archs.rrdbnet_arch import RRDBNet\n",
        "from realesrgan import RealESRGANer\n",
        "from google.colab import drive\n",
        "drive.mount('/content/drive')"
      ]
    },
    {
      "cell_type": "code",
      "execution_count": null,
      "metadata": {
        "id": "G_6yjYoCLe-p"
      },
      "outputs": [],
      "source": [
        "def initialize_models():\n",
        "    # GFPGAN for face restoration\n",
        "    gfpgan = GFPGANer(\n",
        "        model_path='https://github.com/TencentARC/GFPGAN/releases/download/v1.3.0/GFPGANv1.3.pth',\n",
        "        upscale=1,\n",
        "        arch='clean',\n",
        "        channel_multiplier=2,\n",
        "        bg_upsampler=None\n",
        "    )\n",
        "\n",
        "    # ESRGAN for general image enhancement\n",
        "    model = RRDBNet(num_in_ch=3, num_out_ch=3, num_feat=64, num_block=23, num_grow_ch=32)\n",
        "    esrgan = RealESRGANer(\n",
        "        scale=4,\n",
        "        model_path='https://github.com/xinntao/Real-ESRGAN/releases/download/v0.1.0/RealESRGAN_x4plus.pth',\n",
        "        model=model,\n",
        "        tile=400,\n",
        "        tile_pad=10,\n",
        "        pre_pad=0,\n",
        "        half=False\n",
        "    )\n",
        "    return gfpgan, esrgan\n",
        "\n",
        "gfpgan, esrgan = initialize_models()\n",
        "\n",
        "input_dir = '/content/drive/MyDrive/input_images'\n",
        "output_dir = '/content/drive/MyDrive/output_images'\n",
        "os.makedirs(output_dir, exist_ok=True)\n",
        "\n",
        "image_files = [f for f in os.listdir(input_dir) if f.lower().endswith(('png', 'jpg', 'jpeg'))]\n",
        "print(f\"Found {len(image_files)} images to process\")"
      ]
    },
    {
      "cell_type": "code",
      "execution_count": null,
      "metadata": {
        "id": "KfPvm0RJOfSf"
      },
      "outputs": [],
      "source": [
        "def process_image(img_path):\n",
        "    img = cv2.imread(img_path)\n",
        "    if img is None:\n",
        "        print(f\"Error reading {img_path}\")\n",
        "        return None, None\n",
        "\n",
        "    _, _, gfpgan_result = gfpgan.enhance(\n",
        "        img,\n",
        "        has_aligned=False,\n",
        "        only_center_face=False,\n",
        "        paste_back=True\n",
        "    )\n",
        "\n",
        "    esrgan_result, _ = esrgan.enhance(img, outscale=4)\n",
        "\n",
        "    # Resize ESRGAN result to match GFPGAN size\n",
        "    esrgan_resized = cv2.resize(esrgan_result, (gfpgan_result.shape[1], gfpgan_result.shape[0]))\n",
        "\n",
        "    return gfpgan_result, esrgan_resized\n",
        "\n",
        "for img_file in image_files:\n",
        "    try:\n",
        "        input_path = os.path.join(input_dir, img_file)\n",
        "        print(f\"\\nProcessing {img_file}...\")\n",
        "\n",
        "        gfp_result, esr_result = process_image(input_path)\n",
        "\n",
        "        if gfp_result is not None and esr_result is not None:\n",
        "            comparison = np.hstack((gfp_result, esr_result))\n",
        "\n",
        "            base_name = os.path.splitext(img_file)[0]\n",
        "            cv2.imwrite(os.path.join(output_dir, f\"{base_name}_GFPGAN.png\"), gfp_result)\n",
        "            cv2.imwrite(os.path.join(output_dir, f\"{base_name}_ESRGAN.png\"), esr_result)\n",
        "            cv2.imwrite(os.path.join(output_dir, f\"{base_name}_comparison.png\"), comparison)\n",
        "\n",
        "            print(\"Original vs GFPGAN vs ESRGAN (Left to Right)\")\n",
        "            display_img = np.hstack((cv2.resize(cv2.imread(input_path), (256, 256)),\n",
        "                                   cv2.resize(gfp_result, (256, 256)),\n",
        "                                   cv2.resize(esr_result, (256, 256))))\n",
        "            cv2_imshow(display_img)\n",
        "\n",
        "    except Exception as e:\n",
        "        print(f\"Error processing {img_file}: {str(e)}\")\n",
        "\n",
        "print(\"\\nProcessing complete! Check your output folder in Google Drive\")"
      ]
    }
  ],
  "metadata": {
    "colab": {
      "toc_visible": true,
      "provenance": [],
      "authorship_tag": "ABX9TyNnkDI7v957kuhIccKF3rhN",
      "include_colab_link": true
    },
    "kernelspec": {
      "display_name": "Python 3",
      "name": "python3"
    },
    "language_info": {
      "name": "python"
    }
  },
  "nbformat": 4,
  "nbformat_minor": 0
}