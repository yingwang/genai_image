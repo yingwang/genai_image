{
  "cells": [
    {
      "cell_type": "markdown",
      "metadata": {
        "id": "view-in-github",
        "colab_type": "text"
      },
      "source": [
        "<a href=\"https://colab.research.google.com/github/yingwang/genai_image/blob/main/GFPGAN.ipynb\" target=\"_parent\"><img src=\"https://colab.research.google.com/assets/colab-badge.svg\" alt=\"Open In Colab\"/></a>"
      ]
    },
    {
      "cell_type": "code",
      "execution_count": null,
      "metadata": {
        "id": "1wZoDrg6yoHz"
      },
      "outputs": [],
      "source": [
        "!git clone https://github.com/TencentARC/GFPGAN.git\n",
        "\n",
        "# Install dependencies\n",
        "!pip install -r GFPGAN/requirements.txt\n",
        "!pip install basicsr facexlib gfpgan\n",
        "!pip install opencv-python numpy tqdm\n",
        "\n",
        "# Download pretrained models\n",
        "!mkdir -p pretrained\n",
        "!wget -P pretrained https://github.com/TencentARC/GFPGAN/releases/download/v1.3.4/GFPGANv1.4.pth"
      ]
    },
    {
      "cell_type": "code",
      "execution_count": null,
      "metadata": {
        "id": "8T0Cqd-9NR8D"
      },
      "outputs": [],
      "source": [
        "!python -m pip install torch==2.0.1 torchvision==0.15.2 --extra-index-url https://download.pytorch.org/whl/cu118"
      ]
    },
    {
      "cell_type": "code",
      "execution_count": null,
      "metadata": {
        "id": "6gYevGZy96pf"
      },
      "outputs": [],
      "source": [
        "import os\n",
        "import glob\n",
        "from google.colab import drive\n",
        "from tqdm import tqdm"
      ]
    },
    {
      "cell_type": "code",
      "execution_count": null,
      "metadata": {
        "id": "mRqll6yr4JEz"
      },
      "outputs": [],
      "source": [
        "drive.mount('/content/drive')\n",
        "\n",
        "input_dir = \"/content/drive/MyDrive/input_images\"\n",
        "output_dir = \"/content/drive/MyDrive/output_images\"\n",
        "\n",
        "os.makedirs(output_dir, exist_ok=True)\n",
        "\n",
        "input_images = [f for f in os.listdir(input_dir) if f.endswith('.png')]\n",
        "print(f\"Found {len(input_images)} images.\")"
      ]
    },
    {
      "cell_type": "code",
      "execution_count": null,
      "metadata": {
        "colab": {
          "background_save": true
        },
        "id": "b1xPTHxn4KOb"
      },
      "outputs": [],
      "source": [
        "os.makedirs(output_dir, exist_ok=True)\n",
        "\n",
        "# Run GFPGAN on all images in the input directory\n",
        "for img in tqdm(glob.glob(f\"{input_dir}/*.png\")):\n",
        "    img_name = os.path.basename(img)\n",
        "\n",
        "    # GFPGAN outputs images in its own folder structure, so we set output to a common directory\n",
        "    !python GFPGAN/inference_gfpgan.py \\\n",
        "        --input {img} \\\n",
        "        --output {output_dir} \\\n",
        "        --version 1.4 \\\n",
        "        --bg_upsampler realesrgan"
      ]
    }
  ],
  "metadata": {
    "colab": {
      "toc_visible": true,
      "provenance": [],
      "authorship_tag": "ABX9TyOROATvq29/YEzUbE6ZcK0h",
      "include_colab_link": true
    },
    "kernelspec": {
      "display_name": "Python 3",
      "name": "python3"
    },
    "language_info": {
      "name": "python"
    }
  },
  "nbformat": 4,
  "nbformat_minor": 0
}